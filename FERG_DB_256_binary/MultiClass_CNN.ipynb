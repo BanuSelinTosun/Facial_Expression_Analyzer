{
 "cells": [
  {
   "cell_type": "code",
   "execution_count": 2,
   "metadata": {},
   "outputs": [
    {
     "name": "stderr",
     "output_type": "stream",
     "text": [
      "/usr/local/lib/python3.5/dist-packages/h5py/__init__.py:36: FutureWarning: Conversion of the second argument of issubdtype from `float` to `np.floating` is deprecated. In future, it will be treated as `np.float64 == np.dtype(float).type`.\n",
      "  from ._conv import register_converters as _register_converters\n"
     ]
    }
   ],
   "source": [
    "import pandas as pd\n",
    "import numpy as np\n",
    "import tensorflow as tf \n",
    "import matplotlib.pyplot as plt\n",
    "import matplotlib.image as mpimg\n",
    "from sklearn import model_selection as sk\n",
    "import os, re, h5py, shutil\n",
    "from urllib.request import urlretrieve\n",
    "from urllib.error import HTTPError\n",
    "import sklearn\n",
    "from os import listdir"
   ]
  },
  {
   "cell_type": "code",
   "execution_count": 138,
   "metadata": {},
   "outputs": [],
   "source": [
    "%matplotlib inline"
   ]
  },
  {
   "cell_type": "code",
   "execution_count": 2,
   "metadata": {},
   "outputs": [],
   "source": [
    "folder = sklearn.model_selection.KFold(n_splits=3, shuffle=True, random_state=42)"
   ]
  },
  {
   "cell_type": "code",
   "execution_count": 3,
   "metadata": {},
   "outputs": [],
   "source": [
    "def file_checkup(drt):\n",
    "    directory = drt #\"/home/ubuntu/Downloads/FERG_DB_256/Images\"\n",
    "    files_dir =  listdir(directory)\n",
    "    newlist = []\n",
    "    for names in files_dir:\n",
    "        try:\n",
    "            if names.endswith(\".png\"):\n",
    "                if tf.keras.preprocessing.image.load_img(drt+'/{}'.format(names)):\n",
    "                    newlist.append(names)\n",
    "        except OSError:\n",
    "            continue\n",
    "    d = {'names': newlist}\n",
    "    df = pd.DataFrame(data = d)\n",
    "    return df"
   ]
  },
  {
   "cell_type": "code",
   "execution_count": 4,
   "metadata": {},
   "outputs": [],
   "source": [
    "#pwd"
   ]
  },
  {
   "cell_type": "code",
   "execution_count": 5,
   "metadata": {},
   "outputs": [],
   "source": [
    "# df_anger = file_checkup('./FERG_DB_256/anger')"
   ]
  },
  {
   "cell_type": "code",
   "execution_count": 6,
   "metadata": {},
   "outputs": [],
   "source": [
    "# df_disgust = file_checkup('./FERG_DB_256/disgust')\n",
    "# df_fear = file_checkup('./FERG_DB_256/fear')\n",
    "# df_joy = file_checkup('./FERG_DB_256/joy')\n",
    "# df_neutral = file_checkup('./FERG_DB_256/neutral')\n",
    "# df_sadness = file_checkup('./FERG_DB_256/sadness')\n",
    "# df_surprise = file_checkup('./FERG_DB_256/surprise')"
   ]
  },
  {
   "cell_type": "code",
   "execution_count": 7,
   "metadata": {},
   "outputs": [],
   "source": [
    "def make_folds(df):\n",
    "    folds = []\n",
    "    for fold_idx, split in enumerate(folder.split(X=df.index.values)):\n",
    "        folds.append(split)\n",
    "    return folds"
   ]
  },
  {
   "cell_type": "code",
   "execution_count": 8,
   "metadata": {},
   "outputs": [],
   "source": [
    "# anger_folds = make_folds(df_anger)"
   ]
  },
  {
   "cell_type": "code",
   "execution_count": 9,
   "metadata": {},
   "outputs": [],
   "source": [
    "# disgust_folds = make_folds(df_disgust)\n",
    "# fear_folds = make_folds(df_fear)\n",
    "# joy_folds = make_folds(df_joy)\n",
    "# neutral_folds = make_folds(df_neutral)\n",
    "# sadness_folds = make_folds(df_sadness)\n",
    "# surprise_folds = make_folds(df_surprise)"
   ]
  },
  {
   "cell_type": "code",
   "execution_count": 10,
   "metadata": {},
   "outputs": [],
   "source": [
    "train_path = r'./{}'.format('train')\n",
    "if not os.path.exists(train_path):\n",
    "    os.makedirs(train_path)"
   ]
  },
  {
   "cell_type": "code",
   "execution_count": 11,
   "metadata": {},
   "outputs": [],
   "source": [
    "valid_path = r'./{}'.format('valid')\n",
    "if not os.path.exists(valid_path):\n",
    "    os.makedirs(valid_path)"
   ]
  },
  {
   "cell_type": "code",
   "execution_count": 12,
   "metadata": {},
   "outputs": [],
   "source": [
    "# cl = 'anger'\n",
    "# df = file_checkup('./FERG_DB_256/{}'.format(cl))\n",
    "# tst_fold = make_folds(df)\n",
    "# tst_fold[0][0]"
   ]
  },
  {
   "cell_type": "code",
   "execution_count": 13,
   "metadata": {},
   "outputs": [],
   "source": [
    "# df_anger.head()"
   ]
  },
  {
   "cell_type": "code",
   "execution_count": 14,
   "metadata": {},
   "outputs": [],
   "source": [
    "# tst_train_path = r'./train/{}'.format(cl)\n",
    "# print (os.path.join(tst_train_path, df_anger['names'][0]))"
   ]
  },
  {
   "cell_type": "code",
   "execution_count": 15,
   "metadata": {},
   "outputs": [],
   "source": [
    "# cl = 'test'\n",
    "# tst_train_path = r'./train/{}'.format(cl)\n",
    "# if not os.path.exists(tst_train_path+'/{}'.format(cl)):\n",
    "#     os.makedirs(tst_train_path+'/{}'.format(cl))"
   ]
  },
  {
   "cell_type": "code",
   "execution_count": 16,
   "metadata": {},
   "outputs": [],
   "source": [
    "def run_k_fold(k, cl):\n",
    "    df = file_checkup('./FERG_DB_256/{}'.format(cl))\n",
    "    fold = make_folds(df)[k]\n",
    "    train_path = r'./train/{}'.format(cl)\n",
    "    valid_path = r'./valid/{}'.format(cl)\n",
    "    if not os.path.exists(train_path+'/{}'.format(cl)):\n",
    "        os.makedirs(train_path+'/{}'.format(cl))\n",
    "    if not os.path.exists(valid_path+'/{}'.format(cl)):\n",
    "        os.makedirs(valid_path+'/{}'.format(cl))\n",
    "    train_df = df.loc[fold[0]]\n",
    "    valid_df = df.loc[fold[1]]\n",
    "    for member in train_df['names'].values:\n",
    "        os.link('./FERG_DB_256/{}/{}'.format(cl, member), os.path.join(train_path, member))\n",
    "    for member in valid_df['names'].values:\n",
    "        os.link('./FERG_DB_256/{}/{}'.format(cl, member), os.path.join(valid_path, member))"
   ]
  },
  {
   "cell_type": "code",
   "execution_count": 17,
   "metadata": {
    "collapsed": true
   },
   "outputs": [
    {
     "ename": "FileExistsError",
     "evalue": "[Errno 17] File exists: './FERG_DB_256/disgust/aia_disgust_1001.png' -> './train/disgust/aia_disgust_1001.png'",
     "output_type": "error",
     "traceback": [
      "\u001b[0;31m---------------------------------------------------------------------------\u001b[0m",
      "\u001b[0;31mFileExistsError\u001b[0m                           Traceback (most recent call last)",
      "\u001b[0;32m<ipython-input-17-afe6dcb6aa6f>\u001b[0m in \u001b[0;36m<module>\u001b[0;34m()\u001b[0m\n\u001b[0;32m----> 1\u001b[0;31m \u001b[0mrun_k_fold\u001b[0m\u001b[0;34m(\u001b[0m\u001b[0;36m0\u001b[0m\u001b[0;34m,\u001b[0m \u001b[0;34m'disgust'\u001b[0m\u001b[0;34m)\u001b[0m\u001b[0;34m\u001b[0m\u001b[0m\n\u001b[0m\u001b[1;32m      2\u001b[0m \u001b[0mrun_k_fold\u001b[0m\u001b[0;34m(\u001b[0m\u001b[0;36m0\u001b[0m\u001b[0;34m,\u001b[0m \u001b[0;34m'fear'\u001b[0m\u001b[0;34m)\u001b[0m\u001b[0;34m\u001b[0m\u001b[0m\n\u001b[1;32m      3\u001b[0m \u001b[0mrun_k_fold\u001b[0m\u001b[0;34m(\u001b[0m\u001b[0;36m0\u001b[0m\u001b[0;34m,\u001b[0m \u001b[0;34m'joy'\u001b[0m\u001b[0;34m)\u001b[0m\u001b[0;34m\u001b[0m\u001b[0m\n\u001b[1;32m      4\u001b[0m \u001b[0mrun_k_fold\u001b[0m\u001b[0;34m(\u001b[0m\u001b[0;36m0\u001b[0m\u001b[0;34m,\u001b[0m \u001b[0;34m'neutral'\u001b[0m\u001b[0;34m)\u001b[0m\u001b[0;34m\u001b[0m\u001b[0m\n\u001b[1;32m      5\u001b[0m \u001b[0mrun_k_fold\u001b[0m\u001b[0;34m(\u001b[0m\u001b[0;36m0\u001b[0m\u001b[0;34m,\u001b[0m \u001b[0;34m'sadness'\u001b[0m\u001b[0;34m)\u001b[0m\u001b[0;34m\u001b[0m\u001b[0m\n",
      "\u001b[0;32m<ipython-input-16-8d17c288ab87>\u001b[0m in \u001b[0;36mrun_k_fold\u001b[0;34m(k, cl)\u001b[0m\n\u001b[1;32m     11\u001b[0m     \u001b[0mvalid_df\u001b[0m \u001b[0;34m=\u001b[0m \u001b[0mdf\u001b[0m\u001b[0;34m.\u001b[0m\u001b[0mloc\u001b[0m\u001b[0;34m[\u001b[0m\u001b[0mfold\u001b[0m\u001b[0;34m[\u001b[0m\u001b[0;36m1\u001b[0m\u001b[0;34m]\u001b[0m\u001b[0;34m]\u001b[0m\u001b[0;34m\u001b[0m\u001b[0m\n\u001b[1;32m     12\u001b[0m     \u001b[0;32mfor\u001b[0m \u001b[0mmember\u001b[0m \u001b[0;32min\u001b[0m \u001b[0mtrain_df\u001b[0m\u001b[0;34m[\u001b[0m\u001b[0;34m'names'\u001b[0m\u001b[0;34m]\u001b[0m\u001b[0;34m.\u001b[0m\u001b[0mvalues\u001b[0m\u001b[0;34m:\u001b[0m\u001b[0;34m\u001b[0m\u001b[0m\n\u001b[0;32m---> 13\u001b[0;31m         \u001b[0mos\u001b[0m\u001b[0;34m.\u001b[0m\u001b[0mlink\u001b[0m\u001b[0;34m(\u001b[0m\u001b[0;34m'./FERG_DB_256/{}/{}'\u001b[0m\u001b[0;34m.\u001b[0m\u001b[0mformat\u001b[0m\u001b[0;34m(\u001b[0m\u001b[0mcl\u001b[0m\u001b[0;34m,\u001b[0m \u001b[0mmember\u001b[0m\u001b[0;34m)\u001b[0m\u001b[0;34m,\u001b[0m \u001b[0mos\u001b[0m\u001b[0;34m.\u001b[0m\u001b[0mpath\u001b[0m\u001b[0;34m.\u001b[0m\u001b[0mjoin\u001b[0m\u001b[0;34m(\u001b[0m\u001b[0mtrain_path\u001b[0m\u001b[0;34m,\u001b[0m \u001b[0mmember\u001b[0m\u001b[0;34m)\u001b[0m\u001b[0;34m)\u001b[0m\u001b[0;34m\u001b[0m\u001b[0m\n\u001b[0m\u001b[1;32m     14\u001b[0m     \u001b[0;32mfor\u001b[0m \u001b[0mmember\u001b[0m \u001b[0;32min\u001b[0m \u001b[0mvalid_df\u001b[0m\u001b[0;34m[\u001b[0m\u001b[0;34m'names'\u001b[0m\u001b[0;34m]\u001b[0m\u001b[0;34m.\u001b[0m\u001b[0mvalues\u001b[0m\u001b[0;34m:\u001b[0m\u001b[0;34m\u001b[0m\u001b[0m\n\u001b[1;32m     15\u001b[0m         \u001b[0mos\u001b[0m\u001b[0;34m.\u001b[0m\u001b[0mlink\u001b[0m\u001b[0;34m(\u001b[0m\u001b[0;34m'./FERG_DB_256/{}/{}'\u001b[0m\u001b[0;34m.\u001b[0m\u001b[0mformat\u001b[0m\u001b[0;34m(\u001b[0m\u001b[0mcl\u001b[0m\u001b[0;34m,\u001b[0m \u001b[0mmember\u001b[0m\u001b[0;34m)\u001b[0m\u001b[0;34m,\u001b[0m \u001b[0mos\u001b[0m\u001b[0;34m.\u001b[0m\u001b[0mpath\u001b[0m\u001b[0;34m.\u001b[0m\u001b[0mjoin\u001b[0m\u001b[0;34m(\u001b[0m\u001b[0mvalid_path\u001b[0m\u001b[0;34m,\u001b[0m \u001b[0mmember\u001b[0m\u001b[0;34m)\u001b[0m\u001b[0;34m)\u001b[0m\u001b[0;34m\u001b[0m\u001b[0m\n",
      "\u001b[0;31mFileExistsError\u001b[0m: [Errno 17] File exists: './FERG_DB_256/disgust/aia_disgust_1001.png' -> './train/disgust/aia_disgust_1001.png'"
     ]
    }
   ],
   "source": [
    "run_k_fold(0, 'disgust')\n",
    "run_k_fold(0, 'fear')\n",
    "run_k_fold(0, 'joy')\n",
    "run_k_fold(0, 'neutral')\n",
    "run_k_fold(0, 'sadness')\n",
    "run_k_fold(0, 'surprise')"
   ]
  },
  {
   "cell_type": "code",
   "execution_count": null,
   "metadata": {},
   "outputs": [],
   "source": [
    "run_k_fold(0, 'anger')"
   ]
  },
  {
   "cell_type": "code",
   "execution_count": 18,
   "metadata": {},
   "outputs": [
    {
     "name": "stdout",
     "output_type": "stream",
     "text": [
      "Found 37175 images belonging to 7 classes.\n",
      "Found 18591 images belonging to 7 classes.\n"
     ]
    }
   ],
   "source": [
    "train_feed = tf.keras.preprocessing.image.ImageDataGenerator(\n",
    "    rotation_range=20, width_shift_range=0.2,\n",
    "    height_shift_range=0.2)\n",
    "train_iter = train_feed.flow_from_directory(\n",
    "    './train/', target_size=(48, 48), follow_links=True, class_mode='categorical', batch_size=32)\n",
    "valid_feed = tf.keras.preprocessing.image.ImageDataGenerator(\n",
    "    rotation_range=0, width_shift_range=0,\n",
    "    height_shift_range=0)\n",
    "valid_iter = valid_feed.flow_from_directory(\n",
    "    './valid/', target_size=(48, 48), follow_links=True, class_mode='categorical', batch_size=32)"
   ]
  },
  {
   "cell_type": "code",
   "execution_count": 19,
   "metadata": {},
   "outputs": [],
   "source": [
    "conv_arch=[(32,3),(64,3),(128,3)]\n",
    "dense=[64,2]\n",
    "dropout=0.5\n",
    "patience=5"
   ]
  },
  {
   "cell_type": "code",
   "execution_count": 20,
   "metadata": {},
   "outputs": [],
   "source": [
    "INPUT_SHAPE = (48, 48, 3)\n",
    "OUTPUT_SHAPE = (7,)"
   ]
  },
  {
   "cell_type": "code",
   "execution_count": 21,
   "metadata": {},
   "outputs": [
    {
     "name": "stdout",
     "output_type": "stream",
     "text": [
      "Training....\n"
     ]
    }
   ],
   "source": [
    "model = tf.keras.models.Sequential()\n",
    "model.add(tf.keras.layers.Convolution2D(filters=conv_arch[0][0], kernel_size=(3, 3), \n",
    "                        padding='same', activation='relu', input_shape=INPUT_SHAPE))\n",
    "\n",
    "if (conv_arch[0][1]-1) != 0:\n",
    "    for i in range(conv_arch[0][1]-1):\n",
    "        model.add(tf.keras.layers.Convolution2D(conv_arch[0][0], kernel_size=(3, 3), padding='same', activation='relu'))\n",
    "    model.add(tf.keras.layers.MaxPooling2D(pool_size=(2, 2)))\n",
    "\n",
    "if conv_arch[1][1] != 0:\n",
    "    for i in range(conv_arch[1][1]):\n",
    "        model.add(tf.keras.layers.Convolution2D(conv_arch[1][0], kernel_size=(3, 3), padding='same', activation='relu'))\n",
    "    model.add(tf.keras.layers.MaxPooling2D(pool_size=(2, 2)))\n",
    "\n",
    "if conv_arch[2][1] != 0:\n",
    "    for i in range(conv_arch[2][1]):\n",
    "        model.add(tf.keras.layers.Convolution2D(conv_arch[2][0], kernel_size=(3, 3), padding='same', activation='relu'))\n",
    "    model.add(tf.keras.layers.MaxPooling2D(pool_size=(2, 2)))\n",
    "\n",
    "model.add(tf.keras.layers.Flatten())  # this converts 3D feature maps to 1D feature vectors\n",
    "if dense[1] != 0:\n",
    "    for i in range(dense[1]):\n",
    "        model.add(tf.keras.layers.Dense(dense[0], activation='relu'))\n",
    "        if dropout:\n",
    "            model.add(tf.keras.layers.Dropout(dropout))\n",
    "prediction = model.add(tf.keras.layers.Dense(OUTPUT_SHAPE[0], activation='softmax'))\n",
    "\n",
    "# optimizer:\n",
    "model.compile(loss='categorical_crossentropy', optimizer='adam', metrics=['accuracy'])\n",
    "\n",
    "# set callback:\n",
    "callbacks = []\n",
    "if patience != 0:\n",
    "    early_stopping = tf.keras.callbacks.EarlyStopping(monitor='val_loss', patience=patience, verbose=1)\n",
    "    callbacks.append(early_stopping)\n",
    "\n",
    "print ('Training....')"
   ]
  },
  {
   "cell_type": "code",
   "execution_count": null,
   "metadata": {},
   "outputs": [],
   "source": [
    "stop"
   ]
  },
  {
   "cell_type": "code",
   "execution_count": 22,
   "metadata": {},
   "outputs": [
    {
     "name": "stdout",
     "output_type": "stream",
     "text": [
      "Epoch 1/10\n",
      "1161/1161 [==============================] - 120s - loss: 1.9344 - acc: 0.1615 - val_loss: 1.8636 - val_acc: 0.1562\n",
      "Epoch 2/10\n",
      "1161/1161 [==============================] - 116s - loss: 1.5607 - acc: 0.3260 - val_loss: 0.9483 - val_acc: 0.5750\n",
      "Epoch 3/10\n",
      "1161/1161 [==============================] - 117s - loss: 0.7764 - acc: 0.6702 - val_loss: 0.1766 - val_acc: 0.9688\n",
      "Epoch 4/10\n",
      "1161/1161 [==============================] - 117s - loss: 0.3021 - acc: 0.9091 - val_loss: 0.0455 - val_acc: 0.9875\n",
      "Epoch 5/10\n",
      "1161/1161 [==============================] - 117s - loss: 0.1832 - acc: 0.9493 - val_loss: 0.0203 - val_acc: 0.9875\n",
      "Epoch 6/10\n",
      "1161/1161 [==============================] - 117s - loss: 0.1683 - acc: 0.9581 - val_loss: 0.0287 - val_acc: 0.9938\n",
      "Epoch 7/10\n",
      "1161/1161 [==============================] - 117s - loss: 0.1066 - acc: 0.9716 - val_loss: 7.8987e-05 - val_acc: 1.0000\n",
      "Epoch 8/10\n",
      "1161/1161 [==============================] - 117s - loss: 0.1180 - acc: 0.9709 - val_loss: 0.0302 - val_acc: 0.9938\n",
      "Epoch 9/10\n",
      "1161/1161 [==============================] - 117s - loss: 0.0879 - acc: 0.9780 - val_loss: 0.0032 - val_acc: 1.0000\n",
      "Epoch 10/10\n",
      "1161/1161 [==============================] - 117s - loss: 0.1046 - acc: 0.9755 - val_loss: 8.2112e-04 - val_acc: 1.0000\n"
     ]
    }
   ],
   "source": [
    "'''without data augmentation'''\n",
    "hist = model.fit_generator(train_iter, validation_data=valid_iter, \n",
    "                           steps_per_epoch=train_iter.samples//train_iter.batch_size,\n",
    "                          validation_steps=5, callbacks=callbacks, \n",
    "                 use_multiprocessing=True, workers=1, epochs=10)"
   ]
  },
  {
   "cell_type": "code",
   "execution_count": 23,
   "metadata": {},
   "outputs": [],
   "source": [
    "model.save('multiclass')"
   ]
  },
  {
   "cell_type": "code",
   "execution_count": 184,
   "metadata": {},
   "outputs": [],
   "source": [
    "# def get_confusion(data_iter, model):\n",
    "#     data_iter.reset()\n",
    "#     y_predict = model.predict_generator(data_iter, steps=(data_iter.samples//data_iter.batch_size)+1,\n",
    "#         use_multiprocessing=True, workers=1)\n",
    "#     return y_predict, sklearn.metrics.confusion_matrix(data_iter.classes, \n",
    "#                                             np.argmax(y_predict.astype(int), axis=1))"
   ]
  },
  {
   "cell_type": "code",
   "execution_count": 194,
   "metadata": {},
   "outputs": [],
   "source": [
    "def get_confusion2(data_iter, model):\n",
    "    # Reset data iter so that it starts from batch 0\n",
    "    data_iter.reset()\n",
    "    samples = ((data_iter.samples//data_iter.batch_size))*32\n",
    "    prog = tf.keras.utils.Progbar(target=samples)\n",
    "    # Initialize empty arrays to store values\n",
    "    y_true = np.empty(shape=(samples, OUTPUT_SHAPE[0]), dtype=np.float32)\n",
    "    y_predict = np.empty(shape=(samples, OUTPUT_SHAPE[0]), dtype=np.float32)\n",
    "    X = np.empty(shape=((data_iter.batch_size,) + INPUT_SHAPE[:]), dtype=np.float32)\n",
    "    # For every batch,\n",
    "    a, b = (0, 0,)\n",
    "    for i in range((samples//data_iter.batch_size)-2):\n",
    "        try:\n",
    "            # Get X and y_true\n",
    "            X[:], y_temp = data_iter.next()\n",
    "            b += y_temp.shape[0]\n",
    "            prog.update(b)\n",
    "            y_true[a : b] = y_temp\n",
    "            # predict X and y\n",
    "            y_predict[a : b] = model.predict(X, verbose=0)\n",
    "            a = b\n",
    "        except ValueError:\n",
    "            return y_predict, y_true, a, b\n",
    "    return y_predict, y_true, a, b#, #sklearn.metrics.confusion_matrix(y_true, y_predict)"
   ]
  },
  {
   "cell_type": "code",
   "execution_count": 185,
   "metadata": {},
   "outputs": [],
   "source": [
    "#y_predict, cnf_matrix = get_confusion(valid_iter, model)"
   ]
  },
  {
   "cell_type": "code",
   "execution_count": 195,
   "metadata": {},
   "outputs": [
    {
     "name": "stdout",
     "output_type": "stream",
     "text": [
      "18496/18560 [============================>.] - ETA: 0s"
     ]
    }
   ],
   "source": [
    "y_predict, y_true, a, b = get_confusion2(valid_iter, model)"
   ]
  },
  {
   "cell_type": "code",
   "execution_count": 192,
   "metadata": {},
   "outputs": [
    {
     "data": {
      "text/plain": [
       "array([3, 1, 6, 6, 2])"
      ]
     },
     "execution_count": 192,
     "metadata": {},
     "output_type": "execute_result"
    }
   ],
   "source": [
    "#np.argmax(y_predict, axis=1)[0:5]"
   ]
  },
  {
   "cell_type": "code",
   "execution_count": 193,
   "metadata": {},
   "outputs": [
    {
     "data": {
      "text/plain": [
       "array([0, 0, 0, 0, 0], dtype=int32)"
      ]
     },
     "execution_count": 193,
     "metadata": {},
     "output_type": "execute_result"
    }
   ],
   "source": [
    "#valid_iter.classes[0:5]"
   ]
  },
  {
   "cell_type": "code",
   "execution_count": 196,
   "metadata": {},
   "outputs": [],
   "source": [
    "cnf_matrix = sklearn.metrics.confusion_matrix(np.argmax(y_true[:a], axis=1), np.argmax(y_predict[:a], axis=1))"
   ]
  },
  {
   "cell_type": "code",
   "execution_count": 197,
   "metadata": {},
   "outputs": [],
   "source": [
    "def plot_confusion_matrix(cm, classes,\n",
    "                          normalize=False,\n",
    "                          title='Confusion matrix',\n",
    "                          cmap=plt.cm.Blues):\n",
    "    \"\"\"\n",
    "    This function prints and plots the confusion matrix.\n",
    "    Normalization can be applied by setting `normalize=True`.\n",
    "    \"\"\"\n",
    "    if normalize:\n",
    "        cm = cm.astype('float') / cm.sum(axis=1)[:, np.newaxis]\n",
    "        print(\"Normalized confusion matrix\")\n",
    "    else:\n",
    "        print('Confusion matrix, without normalization')\n",
    "\n",
    "    print(cm)\n",
    "\n",
    "    plt.imshow(cm, interpolation='nearest', cmap=cmap)\n",
    "    plt.title(title)\n",
    "    plt.colorbar()\n",
    "    tick_marks = np.arange(len(classes))\n",
    "    plt.xticks(tick_marks, classes, rotation=45)\n",
    "    plt.yticks(tick_marks, classes)\n",
    "\n",
    "    fmt = '.2f' if normalize else 'd'\n",
    "    thresh = cm.max() / 2.\n",
    "    for i, j in itertools.product(range(cm.shape[0]), range(cm.shape[1])):\n",
    "        plt.text(j, i, format(cm[i, j], fmt),\n",
    "                 horizontalalignment=\"center\",\n",
    "                 color=\"white\" if cm[i, j] > thresh else \"black\")\n",
    "\n",
    "    plt.tight_layout()\n",
    "    plt.ylabel('True label')\n",
    "    plt.xlabel('Predicted label')"
   ]
  },
  {
   "cell_type": "code",
   "execution_count": 198,
   "metadata": {},
   "outputs": [
    {
     "name": "stdout",
     "output_type": "stream",
     "text": [
      "Normalized confusion matrix\n",
      "[[1.00000000e+00 0.00000000e+00 0.00000000e+00 0.00000000e+00\n",
      "  0.00000000e+00 0.00000000e+00 0.00000000e+00]\n",
      " [0.00000000e+00 9.99648011e-01 0.00000000e+00 0.00000000e+00\n",
      "  0.00000000e+00 3.51988736e-04 0.00000000e+00]\n",
      " [0.00000000e+00 0.00000000e+00 1.00000000e+00 0.00000000e+00\n",
      "  0.00000000e+00 0.00000000e+00 0.00000000e+00]\n",
      " [0.00000000e+00 4.11015208e-04 4.11015208e-04 9.93423757e-01\n",
      "  5.75421291e-03 0.00000000e+00 0.00000000e+00]\n",
      " [0.00000000e+00 0.00000000e+00 0.00000000e+00 0.00000000e+00\n",
      "  1.00000000e+00 0.00000000e+00 0.00000000e+00]\n",
      " [0.00000000e+00 0.00000000e+00 0.00000000e+00 0.00000000e+00\n",
      "  0.00000000e+00 1.00000000e+00 0.00000000e+00]\n",
      " [0.00000000e+00 0.00000000e+00 7.61509173e-03 0.00000000e+00\n",
      "  1.73070267e-03 0.00000000e+00 9.90654206e-01]]\n"
     ]
    },
    {
     "data": {
      "image/png": "[encoded data removed]",
      "text/plain": [
       "<matplotlib.figure.Figure at 0x7fd268965c50>"
      ]
     },
     "metadata": {},
     "output_type": "display_data"
    }
   ],
   "source": [
    "plt.figure()\n",
    "import itertools\n",
    "plot_confusion_matrix(cnf_matrix, classes=list(valid_iter.class_indices.keys()), normalize=True,\n",
    "                      title='Normalized confusion matrix')\n",
    "\n",
    "plt.show()\n"
   ]
  },
  {
   "cell_type": "code",
   "execution_count": 155,
   "metadata": {},
   "outputs": [
    {
     "data": {
      "text/plain": [
       "['neutral', 'disgust', 'fear', 'anger', 'surprise', 'joy', 'sadness']"
      ]
     },
     "execution_count": 155,
     "metadata": {},
     "output_type": "execute_result"
    }
   ],
   "source": [
    "list(valid_iter.class_indices.keys())"
   ]
  },
  {
   "cell_type": "code",
   "execution_count": 281,
   "metadata": {},
   "outputs": [],
   "source": [
    "def get_bad_images(data_iter, y_predict, y_true):\n",
    "    data_iter.reset()\n",
    "    selector = (np.argmax(y_predict, axis=1) != np.argmax(y_true, axis=1))\n",
    "    samples = ((data_iter.samples//data_iter.batch_size))*32\n",
    "    prog = tf.keras.utils.Progbar(target=samples)\n",
    "    images = np.empty(shape = (selector.sum(), 48, 48, 3))\n",
    "    # For every batch,\n",
    "    batch_ind, batch_ind_end = (0, 0,)\n",
    "    image_ind, image_ind_end = (0, 0,)\n",
    "    for i in range((samples//data_iter.batch_size)-2):\n",
    "        try:\n",
    "            # Get X and y_true\n",
    "            X, y_temp = data_iter.next()\n",
    "            batch_ind_end += y_temp.shape[0]\n",
    "            temp = X[selector[batch_ind : batch_ind_end]]\n",
    "            image_ind_end = temp.shape[0]\n",
    "            images[image_ind : image_ind_end] = temp\n",
    "            prog.update(b)\n",
    "            # predict X and y\n",
    "            batch_ind = batch_ind_end\n",
    "            image_ind = image_ind_end\n",
    "        except ValueError:\n",
    "            return images, selector\n",
    "    return images, selector#, #sklearn.metrics.confusion_matrix(y_true, y_predict)"
   ]
  },
  {
   "cell_type": "code",
   "execution_count": 282,
   "metadata": {},
   "outputs": [
    {
     "name": "stdout",
     "output_type": "stream",
     "text": [
      "18496/18560 [============================>.] - ETA: 0s"
     ]
    }
   ],
   "source": [
    "images, selector = get_bad_images(valid_iter, y_predict, y_true)"
   ]
  },
  {
   "cell_type": "code",
   "execution_count": 337,
   "metadata": {},
   "outputs": [],
   "source": [
    "idx=0\n",
    "bad_images = np.asarray(valid_iter.filenames[:selector.shape[0]])[selector]\n",
    "name_lookup  = {valid_iter.class_indices[key]: key for key in valid_iter.class_indices.keys()}"
   ]
  },
  {
   "cell_type": "code",
   "execution_count": 1,
   "metadata": {},
   "outputs": [
    {
     "ename": "NameError",
     "evalue": "name 'mpimg' is not defined",
     "output_type": "error",
     "traceback": [
      "\u001b[0;31m---------------------------------------------------------------------------\u001b[0m",
      "\u001b[0;31mNameError\u001b[0m                                 Traceback (most recent call last)",
      "\u001b[0;32m<ipython-input-1-079967927c3b>\u001b[0m in \u001b[0;36m<module>\u001b[0;34m()\u001b[0m\n\u001b[1;32m      1\u001b[0m \u001b[0;32mtry\u001b[0m\u001b[0;34m:\u001b[0m\u001b[0;34m\u001b[0m\u001b[0m\n\u001b[0;32m----> 2\u001b[0;31m     \u001b[0mimg\u001b[0m \u001b[0;34m=\u001b[0m \u001b[0mmpimg\u001b[0m\u001b[0;34m.\u001b[0m\u001b[0mimread\u001b[0m\u001b[0;34m(\u001b[0m\u001b[0;34m'valid/'\u001b[0m\u001b[0;34m+\u001b[0m\u001b[0mbad_images\u001b[0m\u001b[0;34m[\u001b[0m\u001b[0midx\u001b[0m\u001b[0;34m]\u001b[0m\u001b[0;34m)\u001b[0m\u001b[0;34m\u001b[0m\u001b[0m\n\u001b[0m\u001b[1;32m      3\u001b[0m     \u001b[0mplt\u001b[0m\u001b[0;34m.\u001b[0m\u001b[0mimshow\u001b[0m\u001b[0;34m(\u001b[0m\u001b[0mimg\u001b[0m\u001b[0;34m)\u001b[0m\u001b[0;34m\u001b[0m\u001b[0m\n\u001b[1;32m      4\u001b[0m \u001b[0;32mexcept\u001b[0m \u001b[0mValueError\u001b[0m\u001b[0;34m:\u001b[0m\u001b[0;34m\u001b[0m\u001b[0m\n\u001b[1;32m      5\u001b[0m     \u001b[0mprint\u001b[0m\u001b[0;34m(\u001b[0m\u001b[0;34m'Bad Image...'\u001b[0m\u001b[0;34m)\u001b[0m\u001b[0;34m\u001b[0m\u001b[0m\n",
      "\u001b[0;31mNameError\u001b[0m: name 'mpimg' is not defined"
     ]
    }
   ],
   "source": [
    "try: \n",
    "    img = mpimg.imread('valid/'+bad_images[idx])\n",
    "    plt.imshow(img)\n",
    "except ValueError:\n",
    "    print('Bad Image...')\n",
    "print('Image index: {}, true label: {}, prediction: {}'.format(idx, \n",
    "                   name_lookup[np.argmax((y_true[selector])[idx])], \n",
    "                   name_lookup[np.argmax((y_predict[selector])[idx])]))\n",
    "print('File name: {}'.format(bad_images[idx]))\n",
    "idx += 1"
   ]
  },
  {
   "cell_type": "code",
   "execution_count": 332,
   "metadata": {},
   "outputs": [
    {
     "data": {
      "text/plain": [
       "dict_keys(['neutral', 'disgust', 'fear', 'anger', 'surprise', 'joy', 'sadness'])"
      ]
     },
     "execution_count": 332,
     "metadata": {},
     "output_type": "execute_result"
    }
   ],
   "source": [
    "classes = valid_iter.class_indices.keys()\n",
    "classes"
   ]
  },
  {
   "cell_type": "code",
   "execution_count": 364,
   "metadata": {},
   "outputs": [
    {
     "data": {
      "text/plain": [
       "['surprise/ray_surprise_991.png',\n",
       " 'surprise/ray_surprise_993.png',\n",
       " 'surprise/ray_surprise_995.png',\n",
       " 'surprise/ray_surprise_99.png',\n",
       " 'surprise/ray_surprise_9.png']"
      ]
     },
     "execution_count": 364,
     "metadata": {},
     "output_type": "execute_result"
    }
   ],
   "source": [
    "valid_iter.filenames[-5:]"
   ]
  },
  {
   "cell_type": "code",
   "execution_count": 366,
   "metadata": {},
   "outputs": [
    {
     "data": {
      "text/plain": [
       "array([6, 6, 6, 6, 6], dtype=int32)"
      ]
     },
     "execution_count": 366,
     "metadata": {},
     "output_type": "execute_result"
    }
   ],
   "source": [
    "valid_iter.classes[-5:]"
   ]
  },
  {
   "cell_type": "code",
   "execution_count": 367,
   "metadata": {},
   "outputs": [
    {
     "data": {
      "text/plain": [
       "'surprise'"
      ]
     },
     "execution_count": 367,
     "metadata": {},
     "output_type": "execute_result"
    }
   ],
   "source": [
    "name_lookup[6]"
   ]
  },
  {
   "cell_type": "code",
   "execution_count": null,
   "metadata": {},
   "outputs": [],
   "source": []
  }
 ],
 "metadata": {
  "kernelspec": {
   "display_name": "Python 3",
   "language": "python",
   "name": "python3"
  },
  "language_info": {
   "codemirror_mode": {
    "name": "ipython",
    "version": 3
   },
   "file_extension": ".py",
   "mimetype": "text/x-python",
   "name": "python",
   "nbconvert_exporter": "python",
   "pygments_lexer": "ipython3",
   "version": "3.5.2"
  }
 },
 "nbformat": 4,
 "nbformat_minor": 2
}
